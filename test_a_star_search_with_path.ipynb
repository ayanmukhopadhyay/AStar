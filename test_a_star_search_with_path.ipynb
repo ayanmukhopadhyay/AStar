{
 "cells": [
  {
   "cell_type": "code",
   "execution_count": 47,
   "metadata": {},
   "outputs": [],
   "source": [
    "import matplotlib.pyplot as plt\n",
    "import numpy as np\n",
    "import random\n",
    "from cffi import FFI\n",
    "\n",
    "from A_Star_Python import precompute_neighbors\n",
    "from A_Star_Python import a_star_search as a_star_search_py"
   ]
  },
  {
   "cell_type": "code",
   "execution_count": 48,
   "metadata": {},
   "outputs": [],
   "source": [
    "ffi = FFI()\n",
    "ffi.cdef(\"\"\"\n",
    "int astar_search_path(const int *grid, int n, int start_x, int start_y, int end_x, int end_y, int **path_out, int *path_length);\n",
    "void free(void *ptr);\n",
    "\"\"\")\n",
    "\n",
    "C = ffi.dlopen(\"./libastarsearchpath.so\")"
   ]
  },
  {
   "cell_type": "code",
   "execution_count": 49,
   "metadata": {},
   "outputs": [],
   "source": [
    "ffi2 = FFI()\n",
    "ffi2.cdef(\"\"\"\n",
    "int astar_search(const int *grid, int n, int start_x, int start_y, int end_x, int end_y);\n",
    "\"\"\")\n",
    "C2 = ffi2.dlopen(\"./libastarsearch.so\")"
   ]
  },
  {
   "cell_type": "code",
   "execution_count": 50,
   "metadata": {},
   "outputs": [],
   "source": [
    "def astar_path_c(grid, start, end):\n",
    "    n = grid.shape[0]\n",
    "    grid_ptr = ffi.cast(\"int *\", grid.ctypes.data)\n",
    "\n",
    "    # Prepare pointers for path output and path length\n",
    "    path_out_ptr = ffi.new(\"int **\")\n",
    "    path_length_ptr = ffi.new(\"int *\")\n",
    "\n",
    "    # Call the C function\n",
    "    result = C.astar_search_path(grid_ptr, n, start[0], start[1], end[0], end[1], path_out_ptr, path_length_ptr)\n",
    "\n",
    "    # Extract the path from the C data structure\n",
    "    if result != -1 and path_length_ptr[0] > 0:\n",
    "        path_length = path_length_ptr[0]\n",
    "        path_array = np.frombuffer(ffi.buffer(path_out_ptr[0], path_length * 2 * ffi.sizeof(\"int\")), dtype=np.int32)\n",
    "        path = path_array.reshape(path_length, 2)\n",
    "        # C.free(path_out_ptr[0])  # Corrected memory free call\n",
    "        return path.tolist(), result\n",
    "    else:\n",
    "        return None, result"
   ]
  },
  {
   "cell_type": "code",
   "execution_count": 51,
   "metadata": {},
   "outputs": [],
   "source": [
    "def astar_path_c2(grid, start, end):\n",
    "    n = grid.shape[0]\n",
    "    grid_ptr = ffi.cast(\"int *\", grid.ctypes.data)\n",
    "\n",
    "    # Call the C function\n",
    "    length = C2.astar_search(grid_ptr, n, *start, *end)\n",
    "\n",
    "    return length"
   ]
  },
  {
   "cell_type": "code",
   "execution_count": 52,
   "metadata": {},
   "outputs": [],
   "source": [
    "def generate_grid():\n",
    "    # Create a 400x400 array filled with zeros\n",
    "    grid = np.zeros((400, 400), dtype=np.int32)\n",
    "    \n",
    "    # Randomly generate obstacles (1s)\n",
    "    for _ in range(30000):  # Adjust the number of obstacles as needed\n",
    "        x = random.randint(0, 399)\n",
    "        y = random.randint(0, 399)\n",
    "        grid[x, y] = 1\n",
    "    \n",
    "    # Generate start and goal positions\n",
    "    start = (random.randint(0, 399), random.randint(0, 399))\n",
    "    goal = (random.randint(0, 399), random.randint(0, 399))\n",
    "    \n",
    "    # Ensure start and goal positions are not obstacles\n",
    "    while grid[start] == 1:\n",
    "        start = (random.randint(0, 399), random.randint(0, 399))\n",
    "    while grid[goal] == 1:\n",
    "        goal = (random.randint(0, 399), random.randint(0, 399))\n",
    "    \n",
    "    return grid, start, goal\n"
   ]
  },
  {
   "cell_type": "code",
   "execution_count": 53,
   "metadata": {},
   "outputs": [],
   "source": [
    "def generate_grid_20x20():\n",
    "    # Create a 20x20 array filled with zeros\n",
    "    grid = np.zeros((20, 20), dtype=np.int32)\n",
    "    \n",
    "    # Randomly generate obstacles (1s)\n",
    "    for _ in range(30):  # Adjust the number of obstacles as needed\n",
    "        x = random.randint(0, 19)\n",
    "        y = random.randint(0, 19)\n",
    "        grid[x, y] = 1\n",
    "    \n",
    "    # Generate start and goal positions\n",
    "    start = (random.randint(0, 19), random.randint(0, 19))\n",
    "    goal = (random.randint(0, 19), random.randint(0, 19))\n",
    "    \n",
    "    # Ensure start and goal positions are not obstacles\n",
    "    while grid[start] == 1:\n",
    "        start = (random.randint(0, 19), random.randint(0, 19))\n",
    "    while grid[goal] == 1:\n",
    "        goal = (random.randint(0, 19), random.randint(0, 19))\n",
    "    \n",
    "    return grid, start, goal"
   ]
  },
  {
   "cell_type": "code",
   "execution_count": 54,
   "metadata": {},
   "outputs": [],
   "source": [
    "def plot_grid_with_path(grid, path):\n",
    "    fig, ax = plt.subplots()\n",
    "    ax.imshow(grid, cmap='binary')\n",
    "\n",
    "    # Plot obstacles\n",
    "    obstacles = np.where(grid == 1)\n",
    "    ax.scatter(obstacles[1], obstacles[0], color='black', marker='s')\n",
    "\n",
    "    # Plot path\n",
    "    if path:\n",
    "        path_x, path_y = zip(*path)\n",
    "        ax.plot(path_y, path_x, marker='o', color='red')\n",
    "\n",
    "    ax.set_xticks(np.arange(-0.5, grid.shape[1], 1), minor=True)\n",
    "    ax.set_yticks(np.arange(-0.5, grid.shape[0], 1), minor=True)\n",
    "    ax.grid(which='minor', color='gray', linestyle='-', linewidth=0.5)\n",
    "    ax.set_xticks([])\n",
    "    ax.set_yticks([])\n",
    "    ax.set_aspect('equal')\n",
    "\n",
    "    plt.show()"
   ]
  },
  {
   "cell_type": "code",
   "execution_count": 55,
   "metadata": {},
   "outputs": [
    {
     "name": "stdout",
     "output_type": "stream",
     "text": [
      "Start: (3, 3)\n",
      "Goal: (6, 1)\n"
     ]
    }
   ],
   "source": [
    "grid, start, goal = generate_grid_20x20()\n",
    "print(f\"Start: {start}\")\n",
    "# goal = (start[0] + 8, start[1] + 6)\n",
    "print(f\"Goal: {goal}\")"
   ]
  },
  {
   "cell_type": "code",
   "execution_count": 56,
   "metadata": {},
   "outputs": [
    {
     "name": "stdout",
     "output_type": "stream",
     "text": [
      "grid: [[0 0 0 0 0 0 0 0 0 0 0 0 0 0 0 0 0 1 0 0]\n",
      " [0 0 0 0 0 0 0 0 0 0 0 0 0 0 0 0 0 0 0 0]\n",
      " [0 0 0 0 0 0 0 0 1 0 0 0 0 0 0 0 0 0 0 0]\n",
      " [0 0 1 0 0 0 0 0 0 0 0 0 0 0 0 0 0 0 0 1]\n",
      " [0 0 0 0 0 1 0 0 0 0 0 0 0 0 0 0 1 0 1 0]\n",
      " [0 0 0 0 0 0 0 0 0 0 0 0 0 0 0 0 0 0 0 0]\n",
      " [0 0 0 0 0 0 0 0 0 0 1 0 0 0 0 0 0 1 0 0]\n",
      " [0 0 0 0 0 0 0 1 0 0 0 0 0 1 0 0 0 0 0 0]\n",
      " [0 0 1 0 0 0 0 0 0 0 0 0 0 0 1 1 0 0 0 1]\n",
      " [0 0 0 0 0 0 0 0 0 0 0 0 0 0 0 0 0 0 0 0]\n",
      " [0 0 0 1 0 0 0 0 0 0 0 0 0 0 0 0 1 0 0 0]\n",
      " [0 0 0 1 0 0 0 0 0 0 0 0 0 0 0 0 0 0 0 0]\n",
      " [0 0 0 0 0 1 0 0 0 0 0 0 0 0 0 0 0 0 0 0]\n",
      " [0 0 0 0 0 0 0 0 0 0 0 0 0 0 0 0 0 0 1 0]\n",
      " [0 0 0 1 0 0 0 0 0 0 0 0 0 0 0 0 0 0 0 0]\n",
      " [0 0 0 0 0 0 0 0 1 0 0 0 0 0 0 0 0 0 0 0]\n",
      " [0 0 0 0 1 0 0 0 0 0 0 1 0 0 1 0 0 0 0 0]\n",
      " [0 0 0 0 0 0 0 0 0 0 0 0 0 0 0 0 0 0 1 0]\n",
      " [0 1 1 0 0 0 0 0 0 1 0 0 0 0 0 0 0 0 0 0]\n",
      " [0 0 0 0 0 0 0 0 0 0 0 0 0 0 0 0 0 0 0 0]]\n"
     ]
    }
   ],
   "source": [
    "print(f\"grid: {grid}\")"
   ]
  },
  {
   "cell_type": "code",
   "execution_count": 57,
   "metadata": {},
   "outputs": [
    {
     "name": "stdout",
     "output_type": "stream",
     "text": [
      "=========\n",
      "Python implementation:\n",
      "Path length: 6\n",
      "path: [(3, 3), (4, 3), (4, 2), (4, 1), (5, 1), (6, 1)]\n"
     ]
    }
   ],
   "source": [
    "# * the path for the Python implementation\n",
    "grid_py = grid.tolist()\n",
    "start_py = list(start)\n",
    "goal_py = list(goal)\n",
    "neighbors_dict = precompute_neighbors(grid_py)\n",
    "path, actions = a_star_search_py(grid_py, start_py, goal_py, neighbors_dict)\n",
    "print(f\"=========\")\n",
    "print(f\"Python implementation:\")\n",
    "print(f\"Path length: {len(path)}\")\n",
    "print(f\"path: {path}\")\n",
    "\n",
    "# * double check every coordinate in the path does not contain obstacles\n",
    "for x, y in path:\n",
    "    assert grid[x][y] == 0"
   ]
  },
  {
   "cell_type": "code",
   "execution_count": 58,
   "metadata": {},
   "outputs": [
    {
     "name": "stdout",
     "output_type": "stream",
     "text": [
      "=========\n",
      "C implementation:\n",
      "Path length: 6\n",
      "path: [[3, 3], [4, 3], [5, 3], [6, 3], [6, 2], [6, 1]]\n"
     ]
    }
   ],
   "source": [
    "# * the path for the C implementation\n",
    "path_c = astar_path_c(grid, start, goal)\n",
    "print(f\"=========\")\n",
    "print(f\"C implementation:\")\n",
    "print(f\"Path length: {len(path_c[0])}\")\n",
    "print(f\"path: {path_c[0]}\")"
   ]
  },
  {
   "cell_type": "code",
   "execution_count": 59,
   "metadata": {},
   "outputs": [
    {
     "name": "stdout",
     "output_type": "stream",
     "text": [
      "=========\n",
      "C2 implementation:\n",
      "Path length: 6\n",
      "path: [[3, 3], [4, 3], [5, 3], [6, 3], [6, 2], [6, 1]]\n"
     ]
    }
   ],
   "source": [
    "# * the path for the C implementation\n",
    "length2 = astar_path_c2(grid, start, goal)\n",
    "print(f\"=========\")\n",
    "print(f\"C2 implementation:\")\n",
    "print(f\"Path length: {len(path_c[0])}\")\n",
    "print(f\"path: {path_c[0]}\")"
   ]
  },
  {
   "cell_type": "code",
   "execution_count": 60,
   "metadata": {},
   "outputs": [
    {
     "data": {
      "image/png": "[encoded data removed]",
      "text/plain": [
       "<Figure size 640x480 with 1 Axes>"
      ]
     },
     "metadata": {},
     "output_type": "display_data"
    }
   ],
   "source": [
    "plot_grid_with_path(grid, path)"
   ]
  },
  {
   "cell_type": "code",
   "execution_count": 61,
   "metadata": {},
   "outputs": [
    {
     "data": {
      "image/png": "[encoded data removed]",
      "text/plain": [
       "<Figure size 640x480 with 1 Axes>"
      ]
     },
     "metadata": {},
     "output_type": "display_data"
    }
   ],
   "source": [
    "plot_grid_with_path(grid, path_c[0])"
   ]
  }
 ],
 "metadata": {
  "kernelspec": {
   "display_name": "Python 3",
   "language": "python",
   "name": "python3"
  },
  "language_info": {
   "codemirror_mode": {
    "name": "ipython",
    "version": 3
   },
   "file_extension": ".py",
   "mimetype": "text/x-python",
   "name": "python",
   "nbconvert_exporter": "python",
   "pygments_lexer": "ipython3",
   "version": "3.10.12"
  }
 },
 "nbformat": 4,
 "nbformat_minor": 2
}
